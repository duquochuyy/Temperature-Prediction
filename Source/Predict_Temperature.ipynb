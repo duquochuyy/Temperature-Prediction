{
  "nbformat": 4,
  "nbformat_minor": 0,
  "metadata": {
    "colab": {
      "name": "Temperature.ipynb",
      "provenance": [],
      "collapsed_sections": []
    },
    "kernelspec": {
      "name": "python3",
      "display_name": "Python 3"
    },
    "language_info": {
      "name": "python"
    },
    "accelerator": "GPU"
  },
  "cells": [
    {
      "cell_type": "code",
      "execution_count": 1,
      "metadata": {
        "colab": {
          "base_uri": "https://localhost:8080/"
        },
        "id": "CcCGzTsBa6M6",
        "outputId": "4d0da714-b380-44a2-f76f-d93056744e28"
      },
      "outputs": [
        {
          "output_type": "stream",
          "name": "stdout",
          "text": [
            "Mounted at /content/drive\n"
          ]
        }
      ],
      "source": [
        "from google.colab import drive\n",
        "drive.mount('/content/drive')"
      ]
    },
    {
      "cell_type": "markdown",
      "source": [
        "Import các thư viện cần thiết cho bài toán. thư viện sklearn của Python cho học máy có thể được sử dụng như thế nào để thực hiện các chức năng hồi quy"
      ],
      "metadata": {
        "id": "XPHrvYxCf-0o"
      }
    },
    {
      "cell_type": "code",
      "source": [
        "import pandas as pd  \n",
        "import numpy as np  \n",
        "import matplotlib.pyplot as plt  \n",
        "import seaborn as seabornInstance \n",
        "from sklearn.model_selection import train_test_split \n",
        "from sklearn.linear_model import LinearRegression\n",
        "from sklearn import metrics\n",
        "%matplotlib inline"
      ],
      "metadata": {
        "id": "QKZCmwDFbERA"
      },
      "execution_count": 2,
      "outputs": []
    },
    {
      "cell_type": "markdown",
      "source": [
        "Lấy dataset theo đường dẫn đến file đã tải về từ NOAA sau khi xử lí"
      ],
      "metadata": {
        "id": "NpbW8f5CgiL1"
      }
    },
    {
      "cell_type": "code",
      "source": [
        "dataset = pd.read_csv('/content/drive/MyDrive/data2002C.csv')"
      ],
      "metadata": {
        "id": "ucS33TQ7bSHO"
      },
      "execution_count": null,
      "outputs": []
    },
    {
      "cell_type": "markdown",
      "source": [
        "Kiểm tra lại dữ liệu, cột TAVG biểu diễn nhiệt độ trung bình theo Date"
      ],
      "metadata": {
        "id": "I-jJafzSgsyn"
      }
    },
    {
      "cell_type": "code",
      "source": [
        "dataset.head(dataset.size)"
      ],
      "metadata": {
        "colab": {
          "base_uri": "https://localhost:8080/",
          "height": 423
        },
        "id": "_cfXNtLNbm41",
        "outputId": "f08499b3-8d55-474c-fc03-0ec5ddf9e372"
      },
      "execution_count": null,
      "outputs": [
        {
          "output_type": "execute_result",
          "data": {
            "text/plain": [
              "          STATION             NAME       DATE       TAVG\n",
              "0     VM000048900  TAN SON HOA, VM   1/1/2002  25.555556\n",
              "1     VM000048900  TAN SON HOA, VM   1/2/2002  25.000000\n",
              "2     VM000048900  TAN SON HOA, VM   1/3/2002  25.000000\n",
              "3     VM000048900  TAN SON HOA, VM   1/4/2002  26.666667\n",
              "4     VM000048900  TAN SON HOA, VM   1/5/2002  26.111111\n",
              "...           ...              ...        ...        ...\n",
              "7379  VM000048900  TAN SON HOA, VM  3/26/2022  30.555556\n",
              "7380  VM000048900  TAN SON HOA, VM  3/27/2022  30.555556\n",
              "7381  VM000048900  TAN SON HOA, VM  3/28/2022  28.333333\n",
              "7382  VM000048900  TAN SON HOA, VM  3/29/2022  27.777778\n",
              "7383  VM000048900  TAN SON HOA, VM  3/30/2022  28.888889\n",
              "\n",
              "[7384 rows x 4 columns]"
            ],
            "text/html": [
              "\n",
              "  <div id=\"df-cb769b85-2633-4907-8c89-9e1d195501b4\">\n",
              "    <div class=\"colab-df-container\">\n",
              "      <div>\n",
              "<style scoped>\n",
              "    .dataframe tbody tr th:only-of-type {\n",
              "        vertical-align: middle;\n",
              "    }\n",
              "\n",
              "    .dataframe tbody tr th {\n",
              "        vertical-align: top;\n",
              "    }\n",
              "\n",
              "    .dataframe thead th {\n",
              "        text-align: right;\n",
              "    }\n",
              "</style>\n",
              "<table border=\"1\" class=\"dataframe\">\n",
              "  <thead>\n",
              "    <tr style=\"text-align: right;\">\n",
              "      <th></th>\n",
              "      <th>STATION</th>\n",
              "      <th>NAME</th>\n",
              "      <th>DATE</th>\n",
              "      <th>TAVG</th>\n",
              "    </tr>\n",
              "  </thead>\n",
              "  <tbody>\n",
              "    <tr>\n",
              "      <th>0</th>\n",
              "      <td>VM000048900</td>\n",
              "      <td>TAN SON HOA, VM</td>\n",
              "      <td>1/1/2002</td>\n",
              "      <td>25.555556</td>\n",
              "    </tr>\n",
              "    <tr>\n",
              "      <th>1</th>\n",
              "      <td>VM000048900</td>\n",
              "      <td>TAN SON HOA, VM</td>\n",
              "      <td>1/2/2002</td>\n",
              "      <td>25.000000</td>\n",
              "    </tr>\n",
              "    <tr>\n",
              "      <th>2</th>\n",
              "      <td>VM000048900</td>\n",
              "      <td>TAN SON HOA, VM</td>\n",
              "      <td>1/3/2002</td>\n",
              "      <td>25.000000</td>\n",
              "    </tr>\n",
              "    <tr>\n",
              "      <th>3</th>\n",
              "      <td>VM000048900</td>\n",
              "      <td>TAN SON HOA, VM</td>\n",
              "      <td>1/4/2002</td>\n",
              "      <td>26.666667</td>\n",
              "    </tr>\n",
              "    <tr>\n",
              "      <th>4</th>\n",
              "      <td>VM000048900</td>\n",
              "      <td>TAN SON HOA, VM</td>\n",
              "      <td>1/5/2002</td>\n",
              "      <td>26.111111</td>\n",
              "    </tr>\n",
              "    <tr>\n",
              "      <th>...</th>\n",
              "      <td>...</td>\n",
              "      <td>...</td>\n",
              "      <td>...</td>\n",
              "      <td>...</td>\n",
              "    </tr>\n",
              "    <tr>\n",
              "      <th>7379</th>\n",
              "      <td>VM000048900</td>\n",
              "      <td>TAN SON HOA, VM</td>\n",
              "      <td>3/26/2022</td>\n",
              "      <td>30.555556</td>\n",
              "    </tr>\n",
              "    <tr>\n",
              "      <th>7380</th>\n",
              "      <td>VM000048900</td>\n",
              "      <td>TAN SON HOA, VM</td>\n",
              "      <td>3/27/2022</td>\n",
              "      <td>30.555556</td>\n",
              "    </tr>\n",
              "    <tr>\n",
              "      <th>7381</th>\n",
              "      <td>VM000048900</td>\n",
              "      <td>TAN SON HOA, VM</td>\n",
              "      <td>3/28/2022</td>\n",
              "      <td>28.333333</td>\n",
              "    </tr>\n",
              "    <tr>\n",
              "      <th>7382</th>\n",
              "      <td>VM000048900</td>\n",
              "      <td>TAN SON HOA, VM</td>\n",
              "      <td>3/29/2022</td>\n",
              "      <td>27.777778</td>\n",
              "    </tr>\n",
              "    <tr>\n",
              "      <th>7383</th>\n",
              "      <td>VM000048900</td>\n",
              "      <td>TAN SON HOA, VM</td>\n",
              "      <td>3/30/2022</td>\n",
              "      <td>28.888889</td>\n",
              "    </tr>\n",
              "  </tbody>\n",
              "</table>\n",
              "<p>7384 rows × 4 columns</p>\n",
              "</div>\n",
              "      <button class=\"colab-df-convert\" onclick=\"convertToInteractive('df-cb769b85-2633-4907-8c89-9e1d195501b4')\"\n",
              "              title=\"Convert this dataframe to an interactive table.\"\n",
              "              style=\"display:none;\">\n",
              "        \n",
              "  <svg xmlns=\"http://www.w3.org/2000/svg\" height=\"24px\"viewBox=\"0 0 24 24\"\n",
              "       width=\"24px\">\n",
              "    <path d=\"M0 0h24v24H0V0z\" fill=\"none\"/>\n",
              "    <path d=\"M18.56 5.44l.94 2.06.94-2.06 2.06-.94-2.06-.94-.94-2.06-.94 2.06-2.06.94zm-11 1L8.5 8.5l.94-2.06 2.06-.94-2.06-.94L8.5 2.5l-.94 2.06-2.06.94zm10 10l.94 2.06.94-2.06 2.06-.94-2.06-.94-.94-2.06-.94 2.06-2.06.94z\"/><path d=\"M17.41 7.96l-1.37-1.37c-.4-.4-.92-.59-1.43-.59-.52 0-1.04.2-1.43.59L10.3 9.45l-7.72 7.72c-.78.78-.78 2.05 0 2.83L4 21.41c.39.39.9.59 1.41.59.51 0 1.02-.2 1.41-.59l7.78-7.78 2.81-2.81c.8-.78.8-2.07 0-2.86zM5.41 20L4 18.59l7.72-7.72 1.47 1.35L5.41 20z\"/>\n",
              "  </svg>\n",
              "      </button>\n",
              "      \n",
              "  <style>\n",
              "    .colab-df-container {\n",
              "      display:flex;\n",
              "      flex-wrap:wrap;\n",
              "      gap: 12px;\n",
              "    }\n",
              "\n",
              "    .colab-df-convert {\n",
              "      background-color: #E8F0FE;\n",
              "      border: none;\n",
              "      border-radius: 50%;\n",
              "      cursor: pointer;\n",
              "      display: none;\n",
              "      fill: #1967D2;\n",
              "      height: 32px;\n",
              "      padding: 0 0 0 0;\n",
              "      width: 32px;\n",
              "    }\n",
              "\n",
              "    .colab-df-convert:hover {\n",
              "      background-color: #E2EBFA;\n",
              "      box-shadow: 0px 1px 2px rgba(60, 64, 67, 0.3), 0px 1px 3px 1px rgba(60, 64, 67, 0.15);\n",
              "      fill: #174EA6;\n",
              "    }\n",
              "\n",
              "    [theme=dark] .colab-df-convert {\n",
              "      background-color: #3B4455;\n",
              "      fill: #D2E3FC;\n",
              "    }\n",
              "\n",
              "    [theme=dark] .colab-df-convert:hover {\n",
              "      background-color: #434B5C;\n",
              "      box-shadow: 0px 1px 3px 1px rgba(0, 0, 0, 0.15);\n",
              "      filter: drop-shadow(0px 1px 2px rgba(0, 0, 0, 0.3));\n",
              "      fill: #FFFFFF;\n",
              "    }\n",
              "  </style>\n",
              "\n",
              "      <script>\n",
              "        const buttonEl =\n",
              "          document.querySelector('#df-cb769b85-2633-4907-8c89-9e1d195501b4 button.colab-df-convert');\n",
              "        buttonEl.style.display =\n",
              "          google.colab.kernel.accessAllowed ? 'block' : 'none';\n",
              "\n",
              "        async function convertToInteractive(key) {\n",
              "          const element = document.querySelector('#df-cb769b85-2633-4907-8c89-9e1d195501b4');\n",
              "          const dataTable =\n",
              "            await google.colab.kernel.invokeFunction('convertToInteractive',\n",
              "                                                     [key], {});\n",
              "          if (!dataTable) return;\n",
              "\n",
              "          const docLinkHtml = 'Like what you see? Visit the ' +\n",
              "            '<a target=\"_blank\" href=https://colab.research.google.com/notebooks/data_table.ipynb>data table notebook</a>'\n",
              "            + ' to learn more about interactive tables.';\n",
              "          element.innerHTML = '';\n",
              "          dataTable['output_type'] = 'display_data';\n",
              "          await google.colab.output.renderOutput(dataTable, element);\n",
              "          const docLink = document.createElement('div');\n",
              "          docLink.innerHTML = docLinkHtml;\n",
              "          element.appendChild(docLink);\n",
              "        }\n",
              "      </script>\n",
              "    </div>\n",
              "  </div>\n",
              "  "
            ]
          },
          "metadata": {},
          "execution_count": 4
        }
      ]
    },
    {
      "cell_type": "markdown",
      "source": [
        "Trích các biến dữ liệu liên quan đến nhiệt độ từ cột TAVG"
      ],
      "metadata": {
        "id": "meMJ-b3Og1-8"
      }
    },
    {
      "cell_type": "code",
      "source": [
        "temperature = np.array(dataset['TAVG'])"
      ],
      "metadata": {
        "id": "RUaOhhRtbsjl"
      },
      "execution_count": null,
      "outputs": []
    },
    {
      "cell_type": "markdown",
      "source": [
        "Từ dữ liệu có được sau khi trích, để thực hiện train dữ liệu hồi quy cần 2 biến X (biến đã biết), y (biến dự đoán). Nhóm chọn X là nhiệt độ trung bình ngày trước và y là ngày sau. Chuyển biến về ma trận 2 chiều có một cột, số dòng tùy thuộc vào bộ dữ liệu.\n",
        "\n"
      ],
      "metadata": {
        "id": "q7p1SyYEldBe"
      }
    },
    {
      "cell_type": "code",
      "source": [
        "X = temperature[:(len(temperature))-1].reshape(-1,1)\n",
        "y = temperature[1:((len(temperature)))].reshape(-1,1)"
      ],
      "metadata": {
        "id": "tIzm0VIYcQfz"
      },
      "execution_count": null,
      "outputs": []
    },
    {
      "cell_type": "markdown",
      "source": [
        "Nhóm chia dữ liệu từ data ra làm 2: train và test. Trong đó test là 10% dữ liệu trong dataset"
      ],
      "metadata": {
        "id": "PmtupAI_lJkz"
      }
    },
    {
      "cell_type": "code",
      "source": [
        "X_train, X_test, y_train, y_test = train_test_split(X, y, test_size=0.1, random_state=0)"
      ],
      "metadata": {
        "id": "Qyed2ZPgc24Y"
      },
      "execution_count": null,
      "outputs": []
    },
    {
      "cell_type": "markdown",
      "source": [
        "Sau khi chia dataset, bắt đầu quá trình train dữ liệu. Chúng ta import lớp LinearRegression và gọi phương thức xử lí dữ liệu regressor.fit"
      ],
      "metadata": {
        "id": "fiw3CsMtltH4"
      }
    },
    {
      "cell_type": "code",
      "source": [
        "regressor = LinearRegression(fit_intercept = True) \n",
        "regressor.fit(X_train, y_train) #training the algorithm"
      ],
      "metadata": {
        "colab": {
          "base_uri": "https://localhost:8080/"
        },
        "id": "0UtuW2wyc74I",
        "outputId": "09d23ece-0a0a-4db3-fd06-868767919148"
      },
      "execution_count": null,
      "outputs": [
        {
          "output_type": "execute_result",
          "data": {
            "text/plain": [
              "LinearRegression()"
            ]
          },
          "metadata": {},
          "execution_count": 10
        }
      ]
    },
    {
      "cell_type": "markdown",
      "source": [
        "In ra hệ số chặn và hệ số góc của đường thằng hồi quy sau khi thực hiện quá trình tính toán"
      ],
      "metadata": {
        "id": "T4nnCOO7lw-E"
      }
    },
    {
      "cell_type": "code",
      "source": [
        "#y = B0+B1*x\n",
        "#To retrieve the intercept:\n",
        "print('B0 =', regressor.intercept_) #B0\n",
        "\n",
        "#For retrieving the slope:\n",
        "print('B1 =', regressor.coef_) #B1"
      ],
      "metadata": {
        "colab": {
          "base_uri": "https://localhost:8080/"
        },
        "id": "4P6q4Qedc-hJ",
        "outputId": "66a69c58-c6eb-4b01-92b6-c4b8bd76b4f0"
      },
      "execution_count": null,
      "outputs": [
        {
          "output_type": "stream",
          "name": "stdout",
          "text": [
            "B0 = [5.93783239]\n",
            "B1 = [[0.78582663]]\n"
          ]
        }
      ]
    },
    {
      "cell_type": "markdown",
      "source": [
        "Từ tập X_test đã chia ở trên, ta thực hiện dự đoán nhiệt độ của từng ngày tiếp theo qua predict của regressor"
      ],
      "metadata": {
        "id": "NP55pplTlOrD"
      }
    },
    {
      "cell_type": "code",
      "source": [
        "y_pred = regressor.predict(X_test)"
      ],
      "metadata": {
        "id": "ZNwlop-PdAR5"
      },
      "execution_count": null,
      "outputs": []
    },
    {
      "cell_type": "markdown",
      "source": [
        "In ra dữ liệu nhiệt độ trung bình thực tế (Actual) và dự đoán ở bước trên (Predicted). Có thể nhìn thấy sự chênh lệch là khá nhỏ so với dữ liệu từng dòng của 2 cột. Để kiểm tra rõ hơn điều đó thông qua các biểu đồ và các hệ số của hồi quy tuyến tính."
      ],
      "metadata": {
        "id": "AjguRNNXj0ds"
      }
    },
    {
      "cell_type": "code",
      "source": [
        "df = pd.DataFrame({'Actual': y_test.flatten(), 'Predicted': y_pred.flatten()})\n",
        "df"
      ],
      "metadata": {
        "colab": {
          "base_uri": "https://localhost:8080/",
          "height": 424
        },
        "id": "N62ZH4yUdEUI",
        "outputId": "a8fa80a5-fd99-48f5-83c9-6dd6759a737a"
      },
      "execution_count": null,
      "outputs": [
        {
          "output_type": "execute_result",
          "data": {
            "text/plain": [
              "        Actual  Predicted\n",
              "0    30.555556  30.822342\n",
              "1    27.222222  28.202920\n",
              "2    28.333333  26.893209\n",
              "3    30.000000  28.639491\n",
              "4    31.111111  30.822342\n",
              "..         ...        ...\n",
              "734  26.666667  26.893209\n",
              "735  27.222222  26.456639\n",
              "736  26.666667  27.329780\n",
              "737  25.000000  25.146928\n",
              "738  26.666667  29.949202\n",
              "\n",
              "[739 rows x 2 columns]"
            ],
            "text/html": [
              "\n",
              "  <div id=\"df-07169309-6b9e-4624-86dd-7c43e26d84db\">\n",
              "    <div class=\"colab-df-container\">\n",
              "      <div>\n",
              "<style scoped>\n",
              "    .dataframe tbody tr th:only-of-type {\n",
              "        vertical-align: middle;\n",
              "    }\n",
              "\n",
              "    .dataframe tbody tr th {\n",
              "        vertical-align: top;\n",
              "    }\n",
              "\n",
              "    .dataframe thead th {\n",
              "        text-align: right;\n",
              "    }\n",
              "</style>\n",
              "<table border=\"1\" class=\"dataframe\">\n",
              "  <thead>\n",
              "    <tr style=\"text-align: right;\">\n",
              "      <th></th>\n",
              "      <th>Actual</th>\n",
              "      <th>Predicted</th>\n",
              "    </tr>\n",
              "  </thead>\n",
              "  <tbody>\n",
              "    <tr>\n",
              "      <th>0</th>\n",
              "      <td>30.555556</td>\n",
              "      <td>30.822342</td>\n",
              "    </tr>\n",
              "    <tr>\n",
              "      <th>1</th>\n",
              "      <td>27.222222</td>\n",
              "      <td>28.202920</td>\n",
              "    </tr>\n",
              "    <tr>\n",
              "      <th>2</th>\n",
              "      <td>28.333333</td>\n",
              "      <td>26.893209</td>\n",
              "    </tr>\n",
              "    <tr>\n",
              "      <th>3</th>\n",
              "      <td>30.000000</td>\n",
              "      <td>28.639491</td>\n",
              "    </tr>\n",
              "    <tr>\n",
              "      <th>4</th>\n",
              "      <td>31.111111</td>\n",
              "      <td>30.822342</td>\n",
              "    </tr>\n",
              "    <tr>\n",
              "      <th>...</th>\n",
              "      <td>...</td>\n",
              "      <td>...</td>\n",
              "    </tr>\n",
              "    <tr>\n",
              "      <th>734</th>\n",
              "      <td>26.666667</td>\n",
              "      <td>26.893209</td>\n",
              "    </tr>\n",
              "    <tr>\n",
              "      <th>735</th>\n",
              "      <td>27.222222</td>\n",
              "      <td>26.456639</td>\n",
              "    </tr>\n",
              "    <tr>\n",
              "      <th>736</th>\n",
              "      <td>26.666667</td>\n",
              "      <td>27.329780</td>\n",
              "    </tr>\n",
              "    <tr>\n",
              "      <th>737</th>\n",
              "      <td>25.000000</td>\n",
              "      <td>25.146928</td>\n",
              "    </tr>\n",
              "    <tr>\n",
              "      <th>738</th>\n",
              "      <td>26.666667</td>\n",
              "      <td>29.949202</td>\n",
              "    </tr>\n",
              "  </tbody>\n",
              "</table>\n",
              "<p>739 rows × 2 columns</p>\n",
              "</div>\n",
              "      <button class=\"colab-df-convert\" onclick=\"convertToInteractive('df-07169309-6b9e-4624-86dd-7c43e26d84db')\"\n",
              "              title=\"Convert this dataframe to an interactive table.\"\n",
              "              style=\"display:none;\">\n",
              "        \n",
              "  <svg xmlns=\"http://www.w3.org/2000/svg\" height=\"24px\"viewBox=\"0 0 24 24\"\n",
              "       width=\"24px\">\n",
              "    <path d=\"M0 0h24v24H0V0z\" fill=\"none\"/>\n",
              "    <path d=\"M18.56 5.44l.94 2.06.94-2.06 2.06-.94-2.06-.94-.94-2.06-.94 2.06-2.06.94zm-11 1L8.5 8.5l.94-2.06 2.06-.94-2.06-.94L8.5 2.5l-.94 2.06-2.06.94zm10 10l.94 2.06.94-2.06 2.06-.94-2.06-.94-.94-2.06-.94 2.06-2.06.94z\"/><path d=\"M17.41 7.96l-1.37-1.37c-.4-.4-.92-.59-1.43-.59-.52 0-1.04.2-1.43.59L10.3 9.45l-7.72 7.72c-.78.78-.78 2.05 0 2.83L4 21.41c.39.39.9.59 1.41.59.51 0 1.02-.2 1.41-.59l7.78-7.78 2.81-2.81c.8-.78.8-2.07 0-2.86zM5.41 20L4 18.59l7.72-7.72 1.47 1.35L5.41 20z\"/>\n",
              "  </svg>\n",
              "      </button>\n",
              "      \n",
              "  <style>\n",
              "    .colab-df-container {\n",
              "      display:flex;\n",
              "      flex-wrap:wrap;\n",
              "      gap: 12px;\n",
              "    }\n",
              "\n",
              "    .colab-df-convert {\n",
              "      background-color: #E8F0FE;\n",
              "      border: none;\n",
              "      border-radius: 50%;\n",
              "      cursor: pointer;\n",
              "      display: none;\n",
              "      fill: #1967D2;\n",
              "      height: 32px;\n",
              "      padding: 0 0 0 0;\n",
              "      width: 32px;\n",
              "    }\n",
              "\n",
              "    .colab-df-convert:hover {\n",
              "      background-color: #E2EBFA;\n",
              "      box-shadow: 0px 1px 2px rgba(60, 64, 67, 0.3), 0px 1px 3px 1px rgba(60, 64, 67, 0.15);\n",
              "      fill: #174EA6;\n",
              "    }\n",
              "\n",
              "    [theme=dark] .colab-df-convert {\n",
              "      background-color: #3B4455;\n",
              "      fill: #D2E3FC;\n",
              "    }\n",
              "\n",
              "    [theme=dark] .colab-df-convert:hover {\n",
              "      background-color: #434B5C;\n",
              "      box-shadow: 0px 1px 3px 1px rgba(0, 0, 0, 0.15);\n",
              "      filter: drop-shadow(0px 1px 2px rgba(0, 0, 0, 0.3));\n",
              "      fill: #FFFFFF;\n",
              "    }\n",
              "  </style>\n",
              "\n",
              "      <script>\n",
              "        const buttonEl =\n",
              "          document.querySelector('#df-07169309-6b9e-4624-86dd-7c43e26d84db button.colab-df-convert');\n",
              "        buttonEl.style.display =\n",
              "          google.colab.kernel.accessAllowed ? 'block' : 'none';\n",
              "\n",
              "        async function convertToInteractive(key) {\n",
              "          const element = document.querySelector('#df-07169309-6b9e-4624-86dd-7c43e26d84db');\n",
              "          const dataTable =\n",
              "            await google.colab.kernel.invokeFunction('convertToInteractive',\n",
              "                                                     [key], {});\n",
              "          if (!dataTable) return;\n",
              "\n",
              "          const docLinkHtml = 'Like what you see? Visit the ' +\n",
              "            '<a target=\"_blank\" href=https://colab.research.google.com/notebooks/data_table.ipynb>data table notebook</a>'\n",
              "            + ' to learn more about interactive tables.';\n",
              "          element.innerHTML = '';\n",
              "          dataTable['output_type'] = 'display_data';\n",
              "          await google.colab.output.renderOutput(dataTable, element);\n",
              "          const docLink = document.createElement('div');\n",
              "          docLink.innerHTML = docLinkHtml;\n",
              "          element.appendChild(docLink);\n",
              "        }\n",
              "      </script>\n",
              "    </div>\n",
              "  </div>\n",
              "  "
            ]
          },
          "metadata": {},
          "execution_count": 13
        }
      ]
    },
    {
      "cell_type": "markdown",
      "source": [
        "Một biểu đồ đầy đủ về các dữ liệu thực tế và dự đoán, với màu xanh là thực tế, màu đỏ là dự đoán"
      ],
      "metadata": {
        "id": "41cMRJjHkdGM"
      }
    },
    {
      "cell_type": "code",
      "source": [
        "plt.title(\"Compare Weather Forecast vs Actual\", fontsize=14)\n",
        "plt.plot(pd.Series(np.ravel(y_test.flatten())), \"bo-\", markersize=3, label=\"Actual\")\n",
        "plt.plot(pd.Series(np.ravel(y_pred.flatten())), \"r-\", markersize=3, label=\"Forecast\")\n",
        "plt.legend(loc=\"upper left\")\n",
        "plt.xlabel(\"Time Periods\")\n",
        "plt.show()"
      ],
      "metadata": {
        "colab": {
          "base_uri": "https://localhost:8080/",
          "height": 296
        },
        "id": "q3wrO0nNdNBB",
        "outputId": "76f2763a-9fbb-4121-a4dc-ea1a259feb2b"
      },
      "execution_count": null,
      "outputs": [
        {
          "output_type": "display_data",
          "data": {
            "text/plain": [
              "<Figure size 432x288 with 1 Axes>"
            ],
            "image/png": "[encoded data removed]"
          },
          "metadata": {
            "needs_background": "light"
          }
        }
      ]
    },
    {
      "cell_type": "markdown",
      "source": [
        "Biểu đồ thể hiện nhiệt độ trong thực tế và đường thẳng hồi quy mà ta đã có qua việc tính toán ở bước trên"
      ],
      "metadata": {
        "id": "8iH7K2PSkr8m"
      }
    },
    {
      "cell_type": "code",
      "source": [
        "plt.scatter(X_test, y_test,  color='blue')\n",
        "plt.plot(X_test, y_pred, color='red', linewidth=2)\n",
        "plt.show()"
      ],
      "metadata": {
        "colab": {
          "base_uri": "https://localhost:8080/",
          "height": 265
        },
        "id": "Q2cAbnJeqRCS",
        "outputId": "a85692e2-784b-4d4b-f44c-a08eabd463fb"
      },
      "execution_count": null,
      "outputs": [
        {
          "output_type": "display_data",
          "data": {
            "text/plain": [
              "<Figure size 432x288 with 1 Axes>"
            ],
            "image/png": "[encoded data removed]"
          },
          "metadata": {
            "needs_background": "light"
          }
        }
      ]
    },
    {
      "cell_type": "markdown",
      "source": [
        "Để nhìn rõ sự chênh lệch, nhóm chỉ xem 30 dữ liệu tương đương 30 ngày khác nhau. Trong đó màu xanh là thực tế, màu đỏ là dự đoán. Ở biểu đồ này có thể nhìn rõ sự chênh lệch là không lớn"
      ],
      "metadata": {
        "id": "Ap3pm8mjlKb2"
      }
    },
    {
      "cell_type": "code",
      "source": [
        "df1 = df.head(30)\n",
        "df1.plot(kind='bar',figsize=(16,10))\n",
        "plt.grid(which='major', linestyle='-', linewidth='0.5', color='green')\n",
        "plt.grid(which='minor', linestyle=':', linewidth='0.5', color='black')\n",
        "plt.show()"
      ],
      "metadata": {
        "colab": {
          "base_uri": "https://localhost:8080/",
          "height": 594
        },
        "id": "1YE1731HqVkR",
        "outputId": "e0f36c9c-9904-490b-ab9d-92bb9bed5345"
      },
      "execution_count": null,
      "outputs": [
        {
          "output_type": "display_data",
          "data": {
            "text/plain": [
              "<Figure size 1152x720 with 1 Axes>"
            ],
            "image/png": "[encoded data removed]"
          },
          "metadata": {
            "needs_background": "light"
          }
        }
      ]
    },
    {
      "cell_type": "markdown",
      "source": [
        "Các hệ số trong mô hình hồi quy, với độ chính xác (R^2) = 62.85%, kết quả dự đoán là tương đối chính xác"
      ],
      "metadata": {
        "id": "zydVQJK5laPe"
      }
    },
    {
      "cell_type": "code",
      "source": [
        "print('R Squared:', metrics.r2_score(y_test, y_pred))\n",
        "print('Mean Squared Error:', metrics.mean_squared_error(y_test, y_pred)) # MSE\n",
        "print('Root Mean Squared Error:', np.sqrt(metrics.mean_squared_error(y_test, y_pred))) #RMSE\n",
        "print('Mean Absolute Error:', metrics.mean_absolute_error(y_test, y_pred)) # MAE"
      ],
      "metadata": {
        "colab": {
          "base_uri": "https://localhost:8080/"
        },
        "id": "Wsi8J0lveA0W",
        "outputId": "ea6588c9-46a5-401d-e7a0-63dfcaaca72e"
      },
      "execution_count": null,
      "outputs": [
        {
          "output_type": "stream",
          "name": "stdout",
          "text": [
            "R Squared: 0.6285466543401419\n",
            "Mean Squared Error: 0.9225370329161722\n",
            "Root Mean Squared Error: 0.9604879139875588\n",
            "Mean Absolute Error: 0.753348221452829\n"
          ]
        }
      ]
    },
    {
      "cell_type": "markdown",
      "source": [
        "Trên đây là chương trình để dự đoán nhiệt độ trung bình theo ngày dựa vào dữ liệu của ngày trước đó bằng cách sử dụng Linear Regression Model."
      ],
      "metadata": {
        "id": "DqWCZa84lv1-"
      }
    }
  ]
}